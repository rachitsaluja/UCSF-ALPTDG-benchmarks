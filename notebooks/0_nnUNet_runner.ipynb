{
 "cells": [
  {
   "cell_type": "markdown",
   "id": "626dc7b7-5e5b-4130-93a4-036e2c46e8f4",
   "metadata": {},
   "source": [
    "### Firstly setting up environment variables\n",
    "\n",
    "\n",
    "\n",
    "Add your path there instead and copy paste in terminal in your nnUNet Environment:\n",
    "```\n",
    "export nnUNet_raw_data_base=\"/location/to/nnUNet_raw_data_base\"\n",
    "export nnUNet_preprocessed=\"/location/to/nnUNet_preprocessed\"\n",
    "export RESULTS_FOLDER=\"/location/to/nnUNet_trained_models\"\n",
    "```"
   ]
  },
  {
   "cell_type": "markdown",
   "id": "53f6d960-5424-4855-8079-fe9fdbc5bb1e",
   "metadata": {},
   "source": [
    "### Step 1: Transferring of Data"
   ]
  },
  {
   "cell_type": "code",
   "execution_count": 3,
   "id": "97313425-e1c0-40c6-b209-f5117d79f86f",
   "metadata": {},
   "outputs": [],
   "source": [
    "import os \n",
    "from natsort import natsorted\n",
    "from glob2 import glob"
   ]
  },
  {
   "cell_type": "code",
   "execution_count": 4,
   "id": "668938ad-f723-410a-aa4c-0d668e48fae0",
   "metadata": {},
   "outputs": [],
   "source": [
    "def nnUnet_transfer_images(patients_dir, list_of_modalities, output_dir, exp_name):\n",
    "    all_patients_dir = natsorted(glob(patients_dir + '/*'))\n",
    "    \n",
    "    for i, p in enumerate(all_patients_dir):\n",
    "        for j, modality in enumerate(list_of_modalities):\n",
    "            src_file = p + '/' + p.split('/')[-1] + '_' + modality + '.nii.gz'\n",
    "            dst_file = output_dir + '/' + exp_name + '_' + '{:04}'.format(i+1) + '_000' + str(j) + '.nii.gz' \n",
    "\n",
    "            #print(dst_file)\n",
    "            os.system('cp -r '+ src_file + ' ' + dst_file)    \n",
    "            \n",
    "def nnUnet_transfer_segs(patients_dir, output_dir, exp_name):\n",
    "    \n",
    "    all_patients_dir = natsorted(glob(patients_dir + '/*'))\n",
    "    \n",
    "    for i, p in enumerate(all_patients_dir):\n",
    "        src_file = p + '/' + p.split('/')[-1] + '_seg.nii.gz'\n",
    "        dst_file = output_dir + '/' + exp_name + '_'  + '{:04}'.format(i+1) + '.nii.gz'\n",
    "\n",
    "        #print(dst_file)\n",
    "        os.system('cp -r '+ src_file + ' ' + dst_file)  "
   ]
  },
  {
   "cell_type": "markdown",
   "id": "4abd9bcc-c67b-4755-8801-7f09428165a0",
   "metadata": {
    "tags": []
   },
   "source": [
    "#### Creating Files directory\n",
    "\n",
    "Change the experiment name and path for your project/experiment"
   ]
  },
  {
   "cell_type": "code",
   "execution_count": 13,
   "id": "c7689973-150a-4056-bfd1-e8d8582d7eae",
   "metadata": {},
   "outputs": [
    {
     "data": {
      "text/plain": [
       "0"
      ]
     },
     "execution_count": 13,
     "metadata": {},
     "output_type": "execute_result"
    }
   ],
   "source": [
    "os.system('mkdir /location/to/TaskXXX_UCSFPostopADataReleaseFinal')\n",
    "os.system('mkdir /location/to/TaskXXX_UCSFPostopADataReleaseFinal/imagesTr')\n",
    "os.system('mkdir /location/to/nnUNet_raw_data/TaskXXX_UCSFPostopADataReleaseFinal/labelsTr')\n",
    "os.system('mkdir /location/to/TaskXXX_UCSFPostopADataReleaseFinal/imagesTs')"
   ]
  },
  {
   "cell_type": "markdown",
   "id": "ec69ec8f-45f1-4299-b7f8-43b21accb881",
   "metadata": {
    "tags": []
   },
   "source": [
    "#### Transferring Images\n",
    "\n",
    "Change the experiment name and path for your project/experiment"
   ]
  },
  {
   "cell_type": "code",
   "execution_count": 14,
   "id": "35cb1be6-90c4-4f2b-821e-5779950866e3",
   "metadata": {},
   "outputs": [],
   "source": [
    "nnUnet_transfer_images(patients_dir = '/location/to/UCSF_POSTOP_GLIOMA_DATASET_FINAL_TRAIN/', \n",
    "                     list_of_modalities = ['flair','t1','t2','t1ce'], \n",
    "                     output_dir = '/location/to/TaskXXX_UCSFPostopADataReleaseFinal/imagesTr', \n",
    "                     exp_name = 'TaskXXX_UCSFPostopADataReleaseFinal')"
   ]
  },
  {
   "cell_type": "markdown",
   "id": "f10ec91a-748b-4162-a268-7c467c12141a",
   "metadata": {},
   "source": [
    "#### Transferring Segs\n",
    "\n",
    "Change the experiment name and path for your project/experiment"
   ]
  },
  {
   "cell_type": "code",
   "execution_count": 15,
   "id": "64a3c377-1912-4090-b224-913599b6ceb3",
   "metadata": {},
   "outputs": [],
   "source": [
    "nnUnet_transfer_segs(patients_dir = '/location/to/UCSF_POSTOP_GLIOMA_DATASET_FINAL_TRAIN/', \n",
    "                     output_dir = '/location/to/TaskXXX_UCSFPostopADataReleaseFinal/labelsTr', \n",
    "                     exp_name = 'TaskXXX_UCSFPostopADataReleaseFinal')"
   ]
  },
  {
   "cell_type": "markdown",
   "id": "02ff2287-5334-428d-a62d-313a72d9d886",
   "metadata": {},
   "source": [
    "#### Creating dataset json"
   ]
  },
  {
   "cell_type": "code",
   "execution_count": 16,
   "id": "9b262574-105e-44b3-b3f3-e34f43e676db",
   "metadata": {},
   "outputs": [],
   "source": [
    "from typing import Tuple\n",
    "import numpy as np\n",
    "from batchgenerators.utilities.file_and_folder_operations import *"
   ]
  },
  {
   "cell_type": "code",
   "execution_count": 17,
   "id": "80bcc851-10fe-4703-8471-de6bad143204",
   "metadata": {},
   "outputs": [],
   "source": [
    "def get_identifiers_from_splitted_files(folder: str):\n",
    "    uniques = np.unique([i[:-12] for i in subfiles(folder, suffix='.nii.gz', join=False)])\n",
    "    return uniques\n",
    "\n",
    "\n",
    "def generate_dataset_json(output_file: str, imagesTr_dir: str, imagesTs_dir: str, modalities: Tuple,\n",
    "                          labels: dict, dataset_name: str, license: str = \"hands off!\", dataset_description: str = \"\",\n",
    "                          dataset_reference=\"\", dataset_release='0.0'):\n",
    "    \"\"\"\n",
    "    :param output_file: This needs to be the full path to the dataset.json you intend to write, so\n",
    "    output_file='DATASET_PATH/dataset.json' where the folder DATASET_PATH points to is the one with the\n",
    "    imagesTr and labelsTr subfolders\n",
    "    :param imagesTr_dir: path to the imagesTr folder of that dataset\n",
    "    :param imagesTs_dir: path to the imagesTs folder of that dataset. Can be None\n",
    "    :param modalities: tuple of strings with modality names. must be in the same order as the images (first entry\n",
    "    corresponds to _0000.nii.gz, etc). Example: ('T1', 'T2', 'FLAIR').\n",
    "    :param labels: dict with int->str (key->value) mapping the label IDs to label names. Note that 0 is always\n",
    "    supposed to be background! Example: {0: 'background', 1: 'edema', 2: 'enhancing tumor'}\n",
    "    :param dataset_name: The name of the dataset. Can be anything you want\n",
    "    :param license:\n",
    "    :param dataset_description:\n",
    "    :param dataset_reference: website of the dataset, if available\n",
    "    :param dataset_release:\n",
    "    :return:\n",
    "    \"\"\"\n",
    "    train_identifiers = get_identifiers_from_splitted_files(imagesTr_dir)\n",
    "\n",
    "    if imagesTs_dir is not None:\n",
    "        test_identifiers = get_identifiers_from_splitted_files(imagesTs_dir)\n",
    "    else:\n",
    "        test_identifiers = []\n",
    "\n",
    "    json_dict = {}\n",
    "    json_dict['name'] = dataset_name\n",
    "    json_dict['description'] = dataset_description\n",
    "    json_dict['tensorImageSize'] = \"4D\"\n",
    "    json_dict['reference'] = dataset_reference\n",
    "    json_dict['licence'] = license\n",
    "    json_dict['release'] = dataset_release\n",
    "    json_dict['modality'] = {str(i): modalities[i] for i in range(len(modalities))}\n",
    "    json_dict['labels'] = {str(i): labels[i] for i in labels.keys()}\n",
    "\n",
    "    json_dict['numTraining'] = len(train_identifiers)\n",
    "    json_dict['numTest'] = len(test_identifiers)\n",
    "    json_dict['training'] = [\n",
    "        {'image': \"./imagesTr/%s.nii.gz\" % i, \"label\": \"./labelsTr/%s.nii.gz\" % i} for i\n",
    "        in\n",
    "        train_identifiers]\n",
    "    json_dict['test'] = [\"./imagesTs/%s.nii.gz\" % i for i in test_identifiers]\n",
    "\n",
    "    if not output_file.endswith(\"dataset.json\"):\n",
    "        print(\"WARNING: output file name is not dataset.json! This may be intentional or not. You decide. \"\n",
    "              \"Proceeding anyways...\")\n",
    "    save_json(json_dict, os.path.join(output_file))"
   ]
  },
  {
   "cell_type": "code",
   "execution_count": 18,
   "id": "c79a251a-8b1c-47eb-a141-75b9b0f37f40",
   "metadata": {
    "tags": []
   },
   "outputs": [],
   "source": [
    "generate_dataset_json(\n",
    "    output_file = \"/location/to/TaskXXX_UCSFPostopADataReleaseFinal/dataset.json\",\n",
    "    imagesTr_dir = \"/location/to/TaskXXX_UCSFPostopADataReleaseFinal/imagesTr\",\n",
    "    imagesTs_dir = \"/location/to/TaskXXX_UCSFPostopADataReleaseFinal/imagesTs\",\n",
    "    modalities = ('flair', 't1', 't2', 't1ce'),\n",
    "    labels = {\n",
    "        \"0\": \"background\",\n",
    "        \"1\": \"Tumor_Necrosis\",\n",
    "        \"2\": \"Edema\",\n",
    "        \"3\": \"Enhancing Tumor\",\n",
    "        \"4\": \"Resection Cavity\"\n",
    "    },\n",
    "    dataset_name = \"UCSF-LPTDG\",\n",
    "    license = \"hands off\",\n",
    "    dataset_description = \"nnUnet experiment for UCSF-LPTDG\",\n",
    "    dataset_reference = \"\",\n",
    "    dataset_release = \"1.0\"\n",
    ")"
   ]
  },
  {
   "cell_type": "markdown",
   "id": "bbe0e934-f5c2-4548-b37a-fcd7bd0d02dd",
   "metadata": {},
   "source": [
    "### Step 2: Run Preprocessing\n",
    "\n",
    "\n",
    "Copy and run this on the terminal.\n",
    "\n",
    "``` \n",
    "nnUNet_plan_and_preprocess -t XXX --verify_dataset_integrity\n",
    "```\n",
    "\n",
    "If everything is okay, then it will automatically run preprocessing. If not, there could be errors in your image and seg size then you need to fix it. OR if there is some small orientation differences also, it won't run automatically, here you can still do preprocessing by running the following\n",
    "\n",
    "```\n",
    "nnUNet_plan_and_preprocess -t XXX\n",
    "```"
   ]
  },
  {
   "cell_type": "markdown",
   "id": "85c7b373-ec88-4bba-b349-2b7670d3a913",
   "metadata": {},
   "source": [
    "### Step 3: Run training\n",
    "\n",
    "To run the training run the following on the terminal\n",
    "\n",
    "```\n",
    "CUDA_VISIBLE_DEVICES=0 nnUNet_train 3d_fullres nnUNetTrainerV2 TaskXXX_UCSFPostopADataReleaseFinal all --npz\n",
    "```\n",
    "\n",
    "FOLD = 0,1,2,3,4,all\n",
    "\n",
    "To stop training anytime, just press CTRL-C\n",
    "\n",
    "To start again\n",
    "```\n",
    "CUDA_VISIBLE_DEVICES=0 nnUNet_train 3d_fullres nnUNetTrainerV2 TaskXXX_UCSFPostopADataReleaseFinal all --npz -c\n",
    "```"
   ]
  },
  {
   "cell_type": "markdown",
   "id": "8a8165cb-c7a9-4f80-a634-df9bf8a6beac",
   "metadata": {},
   "source": [
    "### Step 4: Preprocess Test Set\n",
    "\n"
   ]
  },
  {
   "cell_type": "code",
   "execution_count": 19,
   "id": "f32d7bf1-5c95-4282-9fcc-7eee4e6893eb",
   "metadata": {},
   "outputs": [],
   "source": [
    "import os \n",
    "from natsort import natsorted\n",
    "from glob2 import glob\n",
    "\n",
    "#make folders for reorganizes \n",
    "os.system('mkdir /location/to/Task180_UCSFPostopADataReleaseFinal_Test_raw')          \n",
    "#prediction output dir\n",
    "os.system('mkdir /location/to/Task180_UCSFPostopADataReleaseFinal_Test_pred')\n",
    "#prediction output dir for orignal naming\n",
    "os.system('mkdir /location/to/Task180_UCSFPostopADataReleaseFinal_Test_pred_original')\n",
    "\n",
    "\n",
    "#transfer test set images\n",
    "nnUnet_transfer_images(patients_dir = '/data/Data/UCSF_POSTOP_GLIOMA_DATASET_FINAL_TEST/', \n",
    "                     list_of_modalities = ['flair','t1','t2','t1ce'], \n",
    "                     output_dir = '/location/to/TaskXXX_UCSFPostopADataReleaseFinal_Test_raw', \n",
    "                     exp_name = 'TaskXXX_UCSFPostopADataReleaseFinal_Test')\n"
   ]
  },
  {
   "cell_type": "markdown",
   "id": "8db2a946-372b-4f87-a4b2-feb2c6ce9834",
   "metadata": {},
   "source": [
    "### Step 4: Inference\n",
    "\n",
    "\n",
    "To run the inference run the following on the terminal\n",
    "\n",
    "```\n",
    "CUDA_VISIBLE_DEVICES=0 nnUNet_predict -i /location/to/Task180_UCSFPostopADataReleaseFinal_Test_raw -o /home/jrudie/Desktop/NNUnet/Predictions/Task180_UCSFPostopADataReleaseFinal_Test_pred -t 180 -m 3d_fullres -f all \n",
    "\n",
    "```\n",
    "\n"
   ]
  },
  {
   "cell_type": "code",
   "execution_count": 21,
   "id": "48df8f40-4227-4bdc-8332-2d5fd075f92b",
   "metadata": {},
   "outputs": [],
   "source": [
    "### Convert segmentation names back to original\n",
    "\n",
    "from glob2 import glob\n",
    "from natsort import natsorted\n",
    "import os\n",
    "\n",
    "### Definining and sorted the patients directory and predictions direcroty\n",
    "\n",
    "validation_image_list = natsorted(\n",
    "    glob('/location/to/UCSF_POSTOP_GLIOMA_DATASET_FINAL_TEST/*'))\n",
    "\n",
    "pred_segs_list = natsorted(\n",
    "    glob('/location/to/Task180_UCSFPostopADataReleaseFinal_Test_pred/*nii.gz'))\n",
    "\n",
    "\n",
    "### Getting all patients in the same order as pred_segs\n",
    "\n",
    "validation_patients = [i.split('/')[-1] for i in validation_image_list]\n",
    "\n",
    "### Copying in the same order\n",
    "\n",
    "for i, pat in enumerate(validation_patients):\n",
    "    src_file = pred_segs_list[i]\n",
    "    dst_file = '/location/to/Task180_UCSFPostopADataReleaseFinal_Test_pred_original/' + pat + '.nii.gz'\n",
    "    os.system('cp -r ' + src_file + ' ' + dst_file)\n",
    "    \n",
    "### Done"
   ]
  }
 ],
 "metadata": {
  "kernelspec": {
   "display_name": "Python 3 (ipykernel)",
   "language": "python",
   "name": "python3"
  },
  "language_info": {
   "codemirror_mode": {
    "name": "ipython",
    "version": 3
   },
   "file_extension": ".py",
   "mimetype": "text/x-python",
   "name": "python",
   "nbconvert_exporter": "python",
   "pygments_lexer": "ipython3",
   "version": "3.9.7"
  }
 },
 "nbformat": 4,
 "nbformat_minor": 5
}
